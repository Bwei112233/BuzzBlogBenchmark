{
 "cells": [
  {
   "cell_type": "markdown",
   "metadata": {},
   "source": [
    "# LRT Request Analysis"
   ]
  },
  {
   "cell_type": "markdown",
   "metadata": {},
   "source": [
    "## Functionalities\n",
    "- Analysis of RPCs and queries of LRT requests.\n",
    "\n",
    "## Input\n",
    "Log files are read from a directory in `../data`. This directory is assumed to have the following structure:\n",
    "```\n",
    "logs/\n",
    "  [node-1]/\n",
    "    *_service*.tar.gz\n",
    "    ...\n",
    "    apigateway*.tar.gz\n",
    "    ...\n",
    "    loadgen.tar.gz\n",
    "  ...\n",
    "  [node-n]/\n",
    "    *_service*.tar.gz\n",
    "    ...\n",
    "    apigateway*.tar.gz\n",
    "    ...\n",
    "    loadgen.tar.gz\n",
    "```\n",
    "`*_service*.tar.gz` and `apigateway*.tar.gz` tarballs contain RPC log files named `calls.log` and database query log files named `queries.log`. A tarball `loadgen.tar.gz` contains a request log file named `loadgen.log`."
   ]
  },
  {
   "cell_type": "markdown",
   "metadata": {},
   "source": [
    "## Notebook Configuration"
   ]
  },
  {
   "cell_type": "code",
   "execution_count": null,
   "metadata": {},
   "outputs": [],
   "source": [
    "########## GENERAL\n",
    "# Name of the directory in `../data`\n",
    "EXPERIMENT_DIRNAME = \"BuzzBlogBenchmark_2022-01-15-18-52-05\""
   ]
  },
  {
   "cell_type": "markdown",
   "metadata": {},
   "source": [
    "## Notebook Setup"
   ]
  },
  {
   "cell_type": "code",
   "execution_count": null,
   "metadata": {},
   "outputs": [],
   "source": [
    "%matplotlib inline\n",
    "import matplotlib.pyplot as plt\n",
    "import os\n",
    "import pandas as pd\n",
    "import sys\n",
    "import warnings\n",
    "warnings.filterwarnings(\"ignore\")\n",
    "\n",
    "sys.path.append(os.path.abspath(os.path.join(\"..\")))\n",
    "from parsers.loadgen_parser import LoadgenParser\n",
    "from parsers.query_parser import QueryParser\n",
    "from parsers.rpc_parser import RPCParser\n",
    "from utils.utils import *"
   ]
  },
  {
   "cell_type": "markdown",
   "metadata": {},
   "source": [
    "## Request Log Parsing"
   ]
  },
  {
   "cell_type": "code",
   "execution_count": null,
   "metadata": {},
   "outputs": [],
   "source": [
    "# Build data frame\n",
    "requests = pd.concat(\n",
    "    [pd.DataFrame.from_dict(LoadgenParser(logfile).parse()) for logfile in get_loadgen_logfiles(EXPERIMENT_DIRNAME)],\n",
    "    ignore_index=True)"
   ]
  },
  {
   "cell_type": "markdown",
   "metadata": {},
   "source": [
    "## RPC Log Parsing"
   ]
  },
  {
   "cell_type": "code",
   "execution_count": null,
   "metadata": {},
   "outputs": [],
   "source": [
    "# Build data frame\n",
    "rpc = pd.concat(\n",
    "        [pd.DataFrame.from_dict(RPCParser(logfile).parse()) for logfile in get_rpc_logfiles(EXPERIMENT_DIRNAME)], \n",
    "        ignore_index=True)"
   ]
  },
  {
   "cell_type": "markdown",
   "metadata": {},
   "source": [
    "## Query Log Parsing"
   ]
  },
  {
   "cell_type": "code",
   "execution_count": null,
   "metadata": {},
   "outputs": [],
   "source": [
    "# Build data frame\n",
    "query = pd.concat(\n",
    "        [pd.DataFrame.from_dict(QueryParser(logfile).parse()) for logfile in get_query_logfiles(EXPERIMENT_DIRNAME)],\n",
    "        ignore_index=True)"
   ]
  },
  {
   "cell_type": "markdown",
   "metadata": {},
   "source": [
    "## Analysis of LRT Requests"
   ]
  },
  {
   "cell_type": "code",
   "execution_count": null,
   "metadata": {},
   "outputs": [],
   "source": [
    "# Analysis of requests with latency over P99.9\n",
    "lrt_requests = requests[(requests[\"latency\"] > requests[requests[\"status_code\"] == 200][\"latency\"].quantile(0.999))]\n",
    "for lrt_request in lrt_requests.to_dict(\"records\"):\n",
    "    print(lrt_request)\n",
    "    print(\"Request ID: %s\" % lrt_request[\"request_id\"])\n",
    "    print(\"  Type: %s\" % lrt_request[\"type\"])\n",
    "    print(\"  RPCs:\")\n",
    "    for lrt_request_rpc in rpc[(rpc[\"request_id\"] == lrt_request[\"request_id\"])].to_dict(\"records\"):\n",
    "        print(\"    %s - %s\" % (lrt_request_rpc[\"function\"], lrt_request_rpc[\"latency\"]))\n",
    "    print(\"  Queries:\")\n",
    "    for lrt_request_query in query[(query[\"request_id\"] == lrt_request[\"request_id\"])].to_dict(\"records\"):\n",
    "        print(\"    %s - %s\" % (lrt_request_query[\"dbname\"] + \":\" + lrt_request_query[\"type\"],\n",
    "                lrt_request_query[\"latency\"]))"
   ]
  }
 ],
 "metadata": {
  "interpreter": {
   "hash": "31f2aee4e71d21fbe5cf8b01ff0e069b9275f58929596ceb00d14d90e3e16cd6"
  },
  "kernelspec": {
   "display_name": "Python 3 (ipykernel)",
   "language": "python",
   "name": "python3"
  },
  "language_info": {
   "codemirror_mode": {
    "name": "ipython",
    "version": 3
   },
   "file_extension": ".py",
   "mimetype": "text/x-python",
   "name": "python",
   "nbconvert_exporter": "python",
   "pygments_lexer": "ipython3",
   "version": "3.9.7"
  }
 },
 "nbformat": 4,
 "nbformat_minor": 2
}

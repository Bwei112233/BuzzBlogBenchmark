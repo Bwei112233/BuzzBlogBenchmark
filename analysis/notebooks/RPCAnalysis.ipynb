{
 "cells": [
  {
   "cell_type": "markdown",
   "metadata": {},
   "source": [
    "# RPC Log Analysis"
   ]
  },
  {
   "cell_type": "markdown",
   "metadata": {},
   "source": [
    "## Functionalities\n",
    "- Plot number of RPCs per second.\n",
    "- Plot instantaneous latency of RPCs.\n",
    "- Plot latency distribution of RPCs.\n",
    "\n",
    "## Input\n",
    "Log files are read from a directory in `../data`. This directory is assumed to have the following structure:\n",
    "```\n",
    "logs/\n",
    "  [node-1]/\n",
    "    *_service*.tar.gz\n",
    "    ...\n",
    "    apigateway*.tar.gz\n",
    "  ...\n",
    "  [node-n]/\n",
    "    *_service*.tar.gz\n",
    "    ...\n",
    "    apigateway*.tar.gz\n",
    "```\n",
    "These tarballs contain RPC log files named `calls.log`."
   ]
  },
  {
   "cell_type": "markdown",
   "metadata": {},
   "source": [
    "## Notebook Configuration"
   ]
  },
  {
   "cell_type": "code",
   "execution_count": null,
   "metadata": {},
   "outputs": [],
   "source": [
    "########## GENERAL\n",
    "# Name of the directory in `../data`\n",
    "EXPERIMENT_DIRNAME = \"BuzzBlogBenchmark_2021-10-10-18-35-22\"\n",
    "\n",
    "########## LATENCY\n",
    "# Max expected value\n",
    "MAX_LATENCY_IN_S = 1\n",
    "# Bin size\n",
    "LATENCY_BIN_IN_MS = 1"
   ]
  },
  {
   "cell_type": "markdown",
   "metadata": {},
   "source": [
    "## Notebook Setup"
   ]
  },
  {
   "cell_type": "code",
   "execution_count": null,
   "metadata": {},
   "outputs": [],
   "source": [
    "# Import libraries.\n",
    "%matplotlib inline\n",
    "import datetime\n",
    "import matplotlib.pyplot as plt\n",
    "import os\n",
    "import pandas as pd\n",
    "import re\n",
    "import tarfile\n",
    "import warnings\n",
    "warnings.filterwarnings(\"ignore\")\n",
    "\n",
    "# Constants\n",
    "COMPONENT_TARBALL_PATTERNS = [\n",
    "    r\"^apigateway.*\\.tar\\.gz$\",\n",
    "    r\"^.+_service.*\\.tar\\.gz$\",\n",
    "]\n",
    "RPC_LOG_PATTERN = r\"^\\[(.+)\\] pid=(.+) tid=(.+) request_id=(.+) server=(.+) function=(.+) latency=(.+)$\""
   ]
  },
  {
   "cell_type": "markdown",
   "metadata": {},
   "source": [
    "## Log Parsing"
   ]
  },
  {
   "cell_type": "code",
   "execution_count": null,
   "metadata": {},
   "outputs": [],
   "source": [
    "# Parse logs\n",
    "rpc = {\"node_name\": [], \"timestamp\": [], \"request_id\": [], \"server\": [], \"function\": [], \"latency\": []}\n",
    "node_names = os.listdir(os.path.join(os.pardir, \"data\", EXPERIMENT_DIRNAME, \"logs\"))\n",
    "for node_name in node_names:\n",
    "  for tarball_name in os.listdir(os.path.join(os.pardir, \"data\", EXPERIMENT_DIRNAME, \"logs\", node_name)):\n",
    "    if sum([1 if re.match(tarball_pattern, tarball_name) else 0 for tarball_pattern in COMPONENT_TARBALL_PATTERNS]):\n",
    "      tarball_path = os.path.join(os.pardir, \"data\", EXPERIMENT_DIRNAME, \"logs\", node_name, tarball_name)\n",
    "      with tarfile.open(tarball_path, \"r:gz\") as tar:\n",
    "        for filename in tar.getnames():\n",
    "          if filename.endswith(\"calls.log\"):\n",
    "            with tar.extractfile(filename) as log_file:\n",
    "              for row in log_file:\n",
    "                rpc_log_match = re.match(RPC_LOG_PATTERN, row.decode(\"utf-8\"))\n",
    "                if rpc_log_match:\n",
    "                  timestamp, pid, tid, request_id, server, function, latency = rpc_log_match.groups()\n",
    "                  rpc[\"node_name\"].append(node_name)\n",
    "                  rpc[\"timestamp\"].append(datetime.datetime.strptime(timestamp[:-3], \"%H:%M:%S.%f\"))\n",
    "                  rpc[\"request_id\"].append(request_id)\n",
    "                  rpc[\"server\"].append(server)\n",
    "                  rpc[\"function\"].append(function)\n",
    "                  rpc[\"latency\"].append(float(latency) * 1000)"
   ]
  },
  {
   "cell_type": "code",
   "execution_count": null,
   "metadata": {},
   "outputs": [],
   "source": [
    "# Build data frame\n",
    "rpc = pd.DataFrame.from_dict(rpc)\n",
    "\n",
    "# Get values\n",
    "function_names = sorted(rpc[\"function\"].unique())\n",
    "min_timestamp = rpc[\"timestamp\"].values.min()\n",
    "\n",
    "# (Re) Build columns\n",
    "rpc[\"timestamp\"] = rpc.apply(lambda r: (r[\"timestamp\"] - min_timestamp).total_seconds(), axis=1)\n",
    "rpc[\"window\"] = rpc.apply(lambda r: int(r[\"timestamp\"]), axis=1)"
   ]
  },
  {
   "cell_type": "markdown",
   "metadata": {},
   "source": [
    "## Number of RPCs per Second"
   ]
  },
  {
   "cell_type": "code",
   "execution_count": null,
   "metadata": {},
   "outputs": [],
   "source": [
    "########## LOCAL CONFIG\n",
    "# Minimum time (in seconds)\n",
    "MIN_TIME = None\n",
    "# Maximum time (in seconds)\n",
    "MAX_TIME = None\n",
    "\n",
    "# Plot\n",
    "fig = plt.figure(figsize=(24, len(function_names) * 12))\n",
    "for (i, function) in enumerate(function_names):\n",
    "    df = rpc[(rpc[\"function\"] == function)]\n",
    "    if MIN_TIME:\n",
    "        df = df[(df[\"timestamp\"] >= MIN_TIME)]\n",
    "    if MAX_TIME:\n",
    "        df = df[(df[\"timestamp\"] <= MAX_TIME)]\n",
    "    df = df.groupby([\"window\"])[\"window\"].count()\n",
    "    df = df.reindex(range(int(df.index.min()), int(df.index.max()) + 1), fill_value=0)\n",
    "    ax = fig.add_subplot(len(function_names), 1, i + 1)\n",
    "    ax.grid(alpha=0.75)\n",
    "    ax.set_xlim((MIN_TIME or 0, MAX_TIME or int(df.index.max())))\n",
    "    ax.set_ylim((0, int(df.values.max())))\n",
    "    df.plot(ax=ax, kind=\"line\", title=\"RPCs per second - %s\" % function, xlabel=\"Time (seconds)\",\n",
    "        ylabel=\"Requests (count)\", color=\"blue\", grid=True)\n",
    "    plt.subplots_adjust(hspace=0.25)"
   ]
  },
  {
   "cell_type": "markdown",
   "metadata": {},
   "source": [
    "## Instantaneous Latency of RPCs"
   ]
  },
  {
   "cell_type": "code",
   "execution_count": null,
   "metadata": {},
   "outputs": [],
   "source": [
    "########## LOCAL CONFIG\n",
    "# Minimum time (in seconds)\n",
    "MIN_TIME = None\n",
    "# Maximum time (in seconds)\n",
    "MAX_TIME = None\n",
    "\n",
    "# Plot\n",
    "fig = plt.figure(figsize=(24, len(function_names) * 12))\n",
    "for (i, function) in enumerate(function_names):\n",
    "    df = rpc[(rpc[\"function\"] == function)]\n",
    "    if MIN_TIME:\n",
    "        df = df[(df[\"timestamp\"] >= MIN_TIME)]\n",
    "    if MAX_TIME:\n",
    "        df = df[(df[\"timestamp\"] <= MAX_TIME)]\n",
    "    df.set_index(\"timestamp\", inplace=True)\n",
    "    df.sort_index(inplace=True)\n",
    "    ax = fig.add_subplot(len(function_names), 1, i + 1)\n",
    "    ax.grid(alpha=0.75)\n",
    "    ax.set_xlim((MIN_TIME or 0, MAX_TIME or int(df.index.max())))\n",
    "    ax.set_ylim((0, df[\"latency\"].max()))\n",
    "    df[\"latency\"].plot(ax=ax, kind=\"line\", title=\"Instantaneous Latency - %s\" % function, xlabel=\"Time (seconds)\",\n",
    "        ylabel=\"Latency (milliseconds)\", color=\"purple\", grid=True)\n",
    "    plt.subplots_adjust(hspace=0.25)"
   ]
  },
  {
   "cell_type": "markdown",
   "metadata": {},
   "source": [
    "## Latency Distribution of RPCs"
   ]
  },
  {
   "cell_type": "code",
   "execution_count": null,
   "metadata": {},
   "outputs": [],
   "source": [
    "########## LOCAL CONFIG\n",
    "# Minimum time (in seconds)\n",
    "MIN_TIME = None\n",
    "# Maximum time (in seconds)\n",
    "MAX_TIME = None\n",
    "\n",
    "# Plot\n",
    "fig = plt.figure(figsize=(24, len(function_names) * 12))\n",
    "for (i, function) in enumerate(function_names):\n",
    "    df = rpc[(rpc[\"function\"] == function)]\n",
    "    if MIN_TIME:\n",
    "        df = df[(df[\"timestamp\"] >= MIN_TIME)]\n",
    "    if MAX_TIME:\n",
    "        df = df[(df[\"timestamp\"] <= MAX_TIME)]\n",
    "    if not len(df):\n",
    "        continue\n",
    "    df[\"latency_bin\"] = df.apply(lambda r: int(r[\"latency\"] // LATENCY_BIN_IN_MS), axis=1)\n",
    "    ax = fig.add_subplot(len(function_names), 1, i + 1)\n",
    "    ax.set_yscale(\"log\")\n",
    "    ax.grid(alpha=0.75)\n",
    "    ax.set_xlim((0, (1000 // LATENCY_BIN_IN_MS) * MAX_LATENCY_IN_S))\n",
    "    df[\"latency_bin\"].plot(ax=ax, kind=\"hist\", title=\"Latency Distribution - %s\" % function,\n",
    "        xlabel=\"Latency (milliseconds)\", ylabel=\"Requests (count)\",\n",
    "        bins=range((1000 // LATENCY_BIN_IN_MS) * MAX_LATENCY_IN_S), grid=True)\n",
    "    plt.subplots_adjust(hspace=0.25)"
   ]
  },
  {
   "cell_type": "markdown",
   "metadata": {},
   "source": [
    "## Statistics"
   ]
  },
  {
   "cell_type": "code",
   "execution_count": null,
   "metadata": {},
   "outputs": [],
   "source": [
    "for (i, function) in enumerate(function_names):\n",
    "    df = rpc[(rpc[\"function\"] == function)]\n",
    "    print(function)\n",
    "    print(\"  Number of RPCs/s\")\n",
    "    print(\"    Total:       %7d\" % df.shape[0])\n",
    "    print(\"    Avg:         %7.2f\" % (df.shape[0] / (df[\"timestamp\"].max() - df[\"timestamp\"].min())))\n",
    "    print(\"  Latency (ms)\")\n",
    "    print(\"  P99.9:         %7.2f\" % (df[\"latency\"].quantile(0.999)))\n",
    "    print(\"    P99:         %7.2f\" % (df[\"latency\"].quantile(0.99)))\n",
    "    print(\"    P95:         %7.2f\" % (df[\"latency\"].quantile(0.95)))\n",
    "    print(\"    P50:         %7.2f\" % (df[\"latency\"].quantile(0.50)))\n",
    "    print(\"    Avg:         %7.2f\" % (df[\"latency\"].mean()))\n",
    "    print(\"    Std:         %7.2f\" % (df[\"latency\"].std()))"
   ]
  }
 ],
 "metadata": {
  "interpreter": {
   "hash": "916dbcbb3f70747c44a77c7bcd40155683ae19c65e1c03b4aa3499c5328201f1"
  },
  "kernelspec": {
   "display_name": "Python 3.8.10 64-bit",
   "name": "python3"
  },
  "language_info": {
   "codemirror_mode": {
    "name": "ipython",
    "version": 3
   },
   "file_extension": ".py",
   "mimetype": "text/x-python",
   "name": "python",
   "nbconvert_exporter": "python",
   "pygments_lexer": "ipython3",
   "version": "3.8.10"
  },
  "orig_nbformat": 4
 },
 "nbformat": 4,
 "nbformat_minor": 2
}

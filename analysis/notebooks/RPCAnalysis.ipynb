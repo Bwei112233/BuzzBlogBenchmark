{
 "cells": [
  {
   "cell_type": "markdown",
   "metadata": {},
   "source": [
    "# RPC Log Analysis"
   ]
  },
  {
   "cell_type": "markdown",
   "metadata": {},
   "source": [
    "## Functionalities\n",
    "- Plot number of RPCs per second.\n",
    "- Plot instantaneous latency of RPCs.\n",
    "- Plot latency distribution of RPCs.\n",
    "\n",
    "## Input\n",
    "Log files are read from a directory in `../data`. This directory is assumed to have the following structure:\n",
    "```\n",
    "logs/\n",
    "  [node-1]/\n",
    "    *_service*.tar.gz\n",
    "    ...\n",
    "    apigateway*.tar.gz\n",
    "  ...\n",
    "  [node-n]/\n",
    "    *_service*.tar.gz\n",
    "    ...\n",
    "    apigateway*.tar.gz\n",
    "```\n",
    "These tarballs contain RPC log files named `calls.log`."
   ]
  },
  {
   "cell_type": "markdown",
   "metadata": {},
   "source": [
    "## Notebook Configuration"
   ]
  },
  {
   "cell_type": "code",
   "execution_count": null,
   "metadata": {},
   "outputs": [],
   "source": [
    "########## GENERAL\n",
    "# Name of the directory in `../data`\n",
    "EXPERIMENT_DIRNAME = \"BuzzBlogBenchmark_2022-01-25-06-58-55\"\n",
    "\n",
    "########## LATENCY\n",
    "# Max expected value\n",
    "MAX_LATENCY_IN_S = 2.\n",
    "# Bin size\n",
    "LATENCY_BIN_IN_MS = 10"
   ]
  },
  {
   "cell_type": "markdown",
   "metadata": {},
   "source": [
    "## Notebook Setup"
   ]
  },
  {
   "cell_type": "code",
   "execution_count": null,
   "metadata": {},
   "outputs": [],
   "source": [
    "%matplotlib inline\n",
    "import matplotlib.pyplot as plt\n",
    "import os\n",
    "import pandas as pd\n",
    "import sys\n",
    "import warnings\n",
    "warnings.filterwarnings(\"ignore\")\n",
    "\n",
    "sys.path.append(os.path.abspath(os.path.join(\"..\")))\n",
    "from parsers.rpc_parser import RPCParser\n",
    "from utils.utils import *"
   ]
  },
  {
   "cell_type": "markdown",
   "metadata": {},
   "source": [
    "## Log Parsing"
   ]
  },
  {
   "cell_type": "code",
   "execution_count": null,
   "metadata": {},
   "outputs": [],
   "source": [
    "# Build data frame\n",
    "rpc = pd.concat(\n",
    "        [pd.DataFrame.from_dict(RPCParser(logfile).parse()) for logfile in get_rpc_logfiles(EXPERIMENT_DIRNAME)],\n",
    "        ignore_index=True)"
   ]
  },
  {
   "cell_type": "code",
   "execution_count": null,
   "metadata": {},
   "outputs": [],
   "source": [
    "# (Re) Build columns\n",
    "start_time = get_experiment_start_time(EXPERIMENT_DIRNAME)\n",
    "rpc[\"timestamp\"] = rpc.apply(lambda r: (r[\"timestamp\"] - start_time).total_seconds(), axis=1)\n",
    "rpc[\"window\"] = rpc.apply(lambda r: int(r[\"timestamp\"]), axis=1)"
   ]
  },
  {
   "cell_type": "code",
   "execution_count": null,
   "metadata": {},
   "outputs": [],
   "source": [
    "# (Re) Create index\n",
    "rpc.set_index(\"timestamp\", inplace=True)"
   ]
  },
  {
   "cell_type": "code",
   "execution_count": null,
   "metadata": {},
   "outputs": [],
   "source": [
    "# Get values\n",
    "function_names = sorted(rpc[\"function\"].unique())"
   ]
  },
  {
   "cell_type": "markdown",
   "metadata": {},
   "source": [
    "## Number of RPCs per Second"
   ]
  },
  {
   "cell_type": "code",
   "execution_count": null,
   "metadata": {},
   "outputs": [],
   "source": [
    "########## LOCAL CONFIG\n",
    "# Minimum time (in seconds)\n",
    "MIN_TIME = None\n",
    "# Maximum time (in seconds)\n",
    "MAX_TIME = None\n",
    "\n",
    "# Plot\n",
    "fig = plt.figure(figsize=(24, len(function_names) * 12))\n",
    "for (i, function) in enumerate(function_names):\n",
    "    df = rpc[(rpc[\"function\"] == function)]\n",
    "    if MIN_TIME:\n",
    "        df = df[(df.index >= MIN_TIME)]\n",
    "    if MAX_TIME:\n",
    "        df = df[(df.index <= MAX_TIME)]\n",
    "    df = df.groupby([\"window\"])[\"window\"].count()\n",
    "    df = df.reindex(range(int(df.index.min()), int(df.index.max()) + 1), fill_value=0)\n",
    "    ax = fig.add_subplot(len(function_names), 1, i + 1)\n",
    "    ax.grid(alpha=0.75)\n",
    "    ax.set_xlim((MIN_TIME or 0, MAX_TIME or int(df.index.max())))\n",
    "    ax.set_ylim((0, int(df.values.max())))\n",
    "    df.plot(ax=ax, kind=\"line\", title=\"RPCs per second - %s\" % function, xlabel=\"Time (seconds)\",\n",
    "        ylabel=\"Requests (count)\", color=\"blue\", grid=True)\n",
    "    plt.subplots_adjust(hspace=0.25)"
   ]
  },
  {
   "cell_type": "markdown",
   "metadata": {},
   "source": [
    "## Instantaneous Latency of RPCs"
   ]
  },
  {
   "cell_type": "code",
   "execution_count": null,
   "metadata": {},
   "outputs": [],
   "source": [
    "########## LOCAL CONFIG\n",
    "# Minimum time (in seconds)\n",
    "MIN_TIME = None\n",
    "# Maximum time (in seconds)\n",
    "MAX_TIME = None\n",
    "\n",
    "# Plot\n",
    "fig = plt.figure(figsize=(24, len(function_names) * 12))\n",
    "for (i, function) in enumerate(function_names):\n",
    "    df = rpc[(rpc[\"function\"] == function)]\n",
    "    if MIN_TIME:\n",
    "        df = df[(df.index >= MIN_TIME)]\n",
    "    if MAX_TIME:\n",
    "        df = df[(df.index <= MAX_TIME)]\n",
    "    df.sort_index(inplace=True)\n",
    "    ax = fig.add_subplot(len(function_names), 1, i + 1)\n",
    "    ax.grid(alpha=0.75)\n",
    "    ax.set_xlim((MIN_TIME or 0, MAX_TIME or int(df.index.max())))\n",
    "    ax.set_ylim((0, df[\"latency\"].max()))\n",
    "    df[\"latency\"].plot(ax=ax, kind=\"line\", title=\"Instantaneous Latency - %s\" % function, xlabel=\"Time (seconds)\",\n",
    "        ylabel=\"Latency (milliseconds)\", color=\"purple\", grid=True)\n",
    "    plt.subplots_adjust(hspace=0.25)"
   ]
  },
  {
   "cell_type": "markdown",
   "metadata": {},
   "source": [
    "## Latency Distribution of RPCs"
   ]
  },
  {
   "cell_type": "code",
   "execution_count": null,
   "metadata": {},
   "outputs": [],
   "source": [
    "########## LOCAL CONFIG\n",
    "# Minimum time (in seconds)\n",
    "MIN_TIME = None\n",
    "# Maximum time (in seconds)\n",
    "MAX_TIME = None\n",
    "\n",
    "# Plot\n",
    "fig = plt.figure(figsize=(24, len(function_names) * 12))\n",
    "for (i, function) in enumerate(function_names):\n",
    "    df = rpc[(rpc[\"function\"] == function)]\n",
    "    if MIN_TIME:\n",
    "        df = df[(df.index >= MIN_TIME)]\n",
    "    if MAX_TIME:\n",
    "        df = df[(df.index <= MAX_TIME)]\n",
    "    if not len(df):\n",
    "        continue\n",
    "    df[\"latency_bin\"] = df.apply(lambda r: int(r[\"latency\"] // LATENCY_BIN_IN_MS), axis=1)\n",
    "    ax = fig.add_subplot(len(function_names), 1, i + 1)\n",
    "    ax.set_yscale(\"log\")\n",
    "    ax.grid(alpha=0.75)\n",
    "    ax.set_xlim((0, (1000 // LATENCY_BIN_IN_MS) * MAX_LATENCY_IN_S))\n",
    "    df[\"latency_bin\"].plot(ax=ax, kind=\"hist\", title=\"Latency Distribution - %s\" % function,\n",
    "        xlabel=\"Latency (milliseconds)\", ylabel=\"Requests (count)\",\n",
    "        bins=range(int((1000 // LATENCY_BIN_IN_MS) * MAX_LATENCY_IN_S)), grid=True)\n",
    "    plt.subplots_adjust(hspace=0.25)"
   ]
  },
  {
   "cell_type": "markdown",
   "metadata": {},
   "source": [
    "## Statistics"
   ]
  },
  {
   "cell_type": "code",
   "execution_count": null,
   "metadata": {},
   "outputs": [],
   "source": [
    "for (i, function) in enumerate(function_names):\n",
    "    df = rpc[(rpc[\"function\"] == function)]\n",
    "    print(function)\n",
    "    print(\"  Number of RPCs/s\")\n",
    "    print(\"    Total:       %7d\" % df.shape[0])\n",
    "    print(\"    Avg:         %7.2f\" % (df.shape[0] / (df.index.max() - df.index.min())))\n",
    "    print(\"  Latency (ms)\")\n",
    "    print(\"  P99.9:         %7.2f\" % (df[\"latency\"].quantile(0.999)))\n",
    "    print(\"    P99:         %7.2f\" % (df[\"latency\"].quantile(0.99)))\n",
    "    print(\"    P95:         %7.2f\" % (df[\"latency\"].quantile(0.95)))\n",
    "    print(\"    P50:         %7.2f\" % (df[\"latency\"].quantile(0.50)))\n",
    "    print(\"    Avg:         %7.2f\" % (df[\"latency\"].mean()))\n",
    "    print(\"    Std:         %7.2f\" % (df[\"latency\"].std()))"
   ]
  }
 ],
 "metadata": {
  "interpreter": {
   "hash": "916dbcbb3f70747c44a77c7bcd40155683ae19c65e1c03b4aa3499c5328201f1"
  },
  "kernelspec": {
   "display_name": "Python 3 (ipykernel)",
   "language": "python",
   "name": "python3"
  },
  "language_info": {
   "codemirror_mode": {
    "name": "ipython",
    "version": 3
   },
   "file_extension": ".py",
   "mimetype": "text/x-python",
   "name": "python",
   "nbconvert_exporter": "python",
   "pygments_lexer": "ipython3",
   "version": "3.8.10"
  }
 },
 "nbformat": 4,
 "nbformat_minor": 2
}

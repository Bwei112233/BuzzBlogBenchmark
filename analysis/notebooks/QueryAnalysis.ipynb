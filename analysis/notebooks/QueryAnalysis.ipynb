{
 "cells": [
  {
   "cell_type": "markdown",
   "metadata": {},
   "source": [
    "# Query Log Analysis"
   ]
  },
  {
   "cell_type": "markdown",
   "metadata": {},
   "source": [
    "## Functionalities\n",
    "- Plot number of database queries per second.\n",
    "- Plot instantaneous latency of database queries.\n",
    "- Plot latency distribution of database queries.\n",
    "\n",
    "## Input\n",
    "Log files are read from a directory in `../data`. This directory is assumed to have the following structure:\n",
    "```\n",
    "logs/\n",
    "  [node-1]/\n",
    "    *_service*.tar.gz\n",
    "  ...\n",
    "  [node-n]/\n",
    "    *_service*.tar.gz\n",
    "```\n",
    "These tarballs contain database query log files named `queries.log`."
   ]
  },
  {
   "cell_type": "markdown",
   "metadata": {},
   "source": [
    "## Notebook Configuration"
   ]
  },
  {
   "cell_type": "code",
   "execution_count": null,
   "metadata": {},
   "outputs": [],
   "source": [
    "########## GENERAL\n",
    "# Name of the directory in `../data`\n",
    "EXPERIMENT_DIRNAME = \"BuzzBlogBenchmark_2021-11-11-16-06-13\"\n",
    "\n",
    "########## LATENCY\n",
    "# Max expected value\n",
    "MAX_LATENCY_IN_S = 1\n",
    "# Bin size\n",
    "LATENCY_BIN_IN_MS = 1"
   ]
  },
  {
   "cell_type": "markdown",
   "metadata": {},
   "source": [
    "## Notebook Setup"
   ]
  },
  {
   "cell_type": "code",
   "execution_count": null,
   "metadata": {},
   "outputs": [],
   "source": [
    "%matplotlib inline\n",
    "import matplotlib.pyplot as plt\n",
    "import os\n",
    "import pandas as pd\n",
    "import sys\n",
    "import warnings\n",
    "warnings.filterwarnings(\"ignore\")\n",
    "\n",
    "sys.path.append(os.path.abspath(os.path.join(\"..\")))\n",
    "from parsers.query_parser import QueryParser\n",
    "from utils.utils import *"
   ]
  },
  {
   "cell_type": "markdown",
   "metadata": {},
   "source": [
    "## Log Parsing"
   ]
  },
  {
   "cell_type": "code",
   "execution_count": null,
   "metadata": {},
   "outputs": [],
   "source": [
    "# Build data frame\n",
    "query = pd.concat(\n",
    "        [pd.DataFrame.from_dict(QueryParser(logfile).parse()) for logfile in get_query_logfiles(EXPERIMENT_DIRNAME)],\n",
    "        ignore_index=True)"
   ]
  },
  {
   "cell_type": "code",
   "execution_count": null,
   "metadata": {},
   "outputs": [],
   "source": [
    "# (Re) Build columns\n",
    "start_time = get_experiment_start_time(EXPERIMENT_DIRNAME)\n",
    "query[\"timestamp\"] = query.apply(lambda r: (r[\"timestamp\"] - start_time).total_seconds(), axis=1)\n",
    "query[\"window\"] = query.apply(lambda r: int(r[\"timestamp\"]), axis=1)"
   ]
  },
  {
   "cell_type": "code",
   "execution_count": null,
   "metadata": {},
   "outputs": [],
   "source": [
    "# (Re) Create index\n",
    "query.set_index(\"timestamp\", inplace=True)"
   ]
  },
  {
   "cell_type": "code",
   "execution_count": null,
   "metadata": {},
   "outputs": [],
   "source": [
    "# Get values\n",
    "dbnames = sorted(query[\"dbname\"].unique())\n",
    "types = sorted(query[\"type\"].unique())"
   ]
  },
  {
   "cell_type": "markdown",
   "metadata": {},
   "source": [
    "## Number of Queries per Second"
   ]
  },
  {
   "cell_type": "code",
   "execution_count": null,
   "metadata": {},
   "outputs": [],
   "source": [
    "########## LOCAL CONFIG\n",
    "# Minimum time (in seconds)\n",
    "MIN_TIME = None\n",
    "# Maximum time (in seconds)\n",
    "MAX_TIME = None\n",
    "\n",
    "# Plot\n",
    "fig = plt.figure(figsize=(24, len(dbnames) * 12))\n",
    "for (i, dbname) in enumerate(dbnames):\n",
    "    df = query[(query[\"dbname\"] == dbname)]\n",
    "    if MIN_TIME:\n",
    "        df = df[(df.index >= MIN_TIME)]\n",
    "    if MAX_TIME:\n",
    "        df = df[(df.index <= MAX_TIME)]\n",
    "    df = df.groupby([\"window\", \"type\"])[\"window\"].count().unstack().fillna(0)\n",
    "    df = df.reindex(range(int(df.index.min()), int(df.index.max()) + 1), fill_value=0)\n",
    "    ax = fig.add_subplot(len(dbnames), 1, i + 1)\n",
    "    ax.grid(alpha=0.75)\n",
    "    ax.set_xlim((MIN_TIME or 0, MAX_TIME or int(df.index.max())))\n",
    "    ax.set_ylim((0, int(df.values.max())))\n",
    "    df.plot(ax=ax, kind=\"line\", title=\"Queries per second - %s\" % dbname, xlabel=\"Time (seconds)\",\n",
    "        ylabel=\"Queries (count)\", color={\"SELECT\": \"orange\", \"INSERT\": \"blue\", \"DELETE\": \"red\", \"UPDATE\": \"green\"},legend=True, grid=True)\n",
    "    plt.subplots_adjust(hspace=0.25)"
   ]
  },
  {
   "cell_type": "markdown",
   "metadata": {},
   "source": [
    "## Instantaneous Latency of Queries"
   ]
  },
  {
   "cell_type": "code",
   "execution_count": null,
   "metadata": {},
   "outputs": [],
   "source": [
    "########## LOCAL CONFIG\n",
    "# Minimum time (in seconds)\n",
    "MIN_TIME = None\n",
    "# Maximum time (in seconds)\n",
    "MAX_TIME = None\n",
    "\n",
    "# Plot\n",
    "fig = plt.figure(figsize=(24, len(dbnames) * len(types) * 12))\n",
    "for (i, dbname) in enumerate(dbnames):\n",
    "    for (j, type) in enumerate(types):\n",
    "        df = query[(query[\"dbname\"] == dbname) & (query[\"type\"] == type)]\n",
    "        if MIN_TIME:\n",
    "            df = df[(df.index >= MIN_TIME)]\n",
    "        if MAX_TIME:\n",
    "            df = df[(df.index <= MAX_TIME)]\n",
    "        if df.empty:\n",
    "            continue\n",
    "        df.sort_index(inplace=True)\n",
    "        ax = fig.add_subplot(len(dbnames) * len(types), 1, i * len(types) + j + 1)\n",
    "        ax.grid(alpha=0.75)\n",
    "        ax.set_xlim((MIN_TIME or 0, MAX_TIME or int(df.index.max())))\n",
    "        ax.set_ylim((0, df[\"latency\"].max()))\n",
    "        df[\"latency\"].plot(ax=ax, kind=\"line\", title=\"Instantaneous Latency - %s\" % dbname,\n",
    "            xlabel=\"Time (seconds)\", ylabel=\"Latency (milliseconds)\", label=type,\n",
    "            color={\"SELECT\": \"orange\", \"INSERT\": \"blue\", \"DELETE\": \"red\", \"UPDATE\": \"green\"}, legend=True, grid=True)\n",
    "        plt.subplots_adjust(hspace=0.25)"
   ]
  },
  {
   "cell_type": "markdown",
   "metadata": {},
   "source": [
    "## Latency Distribution of Queries"
   ]
  },
  {
   "cell_type": "code",
   "execution_count": null,
   "metadata": {},
   "outputs": [],
   "source": [
    "########## LOCAL CONFIG\n",
    "# Minimum time (in seconds)\n",
    "MIN_TIME = None\n",
    "# Maximum time (in seconds)\n",
    "MAX_TIME = None\n",
    "\n",
    "# Plot\n",
    "fig = plt.figure(figsize=(24, len(dbnames) * len(types) * 12))\n",
    "for (i, dbname) in enumerate(dbnames):\n",
    "    for (j, type) in enumerate(types):\n",
    "        df = query[(query[\"dbname\"] == dbname) & (query[\"type\"] == type)]\n",
    "        if MIN_TIME:\n",
    "            df = df[(df.index >= MIN_TIME)]\n",
    "        if MAX_TIME:\n",
    "            df = df[(df.index <= MAX_TIME)]\n",
    "        if df.empty:\n",
    "            continue\n",
    "        df[\"latency_bin\"] = df.apply(lambda r: int(r[\"latency\"] // LATENCY_BIN_IN_MS), axis=1)\n",
    "        ax = fig.add_subplot(len(dbnames) * len(types), 1, i * len(types) + j + 1)\n",
    "        ax.set_yscale(\"log\")\n",
    "        ax.grid(alpha=0.75)\n",
    "        ax.set_xlim((0, (1000 // LATENCY_BIN_IN_MS) * MAX_LATENCY_IN_S))\n",
    "        df[\"latency_bin\"].plot(ax=ax, kind=\"hist\", title=\"Latency Distribution - %s - %s\" % (dbname, type),\n",
    "            xlabel=\"Latency (milliseconds)\", ylabel=\"Queries (count)\",\n",
    "            bins=range((1000 // LATENCY_BIN_IN_MS) * MAX_LATENCY_IN_S), grid=True)\n",
    "        plt.subplots_adjust(hspace=0.25)"
   ]
  },
  {
   "cell_type": "markdown",
   "metadata": {},
   "source": [
    "## Statistics"
   ]
  },
  {
   "cell_type": "code",
   "execution_count": null,
   "metadata": {},
   "outputs": [],
   "source": [
    "for (i, dbname) in enumerate(dbnames):\n",
    "    print(dbname)\n",
    "    for (j, type) in enumerate(types):\n",
    "        df = query[(query[\"dbname\"] == dbname) & (query[\"type\"] == type)]\n",
    "        if df.empty:\n",
    "            continue\n",
    "        print(\"  %s\" % type)\n",
    "        print(\"    Number of queries\")\n",
    "        print(\"      Total:       %7d\" % df.shape[0])\n",
    "        print(\"      Avg:         %7.2f\" % (df.shape[0] / (df.index.max() - df.index.min())))\n",
    "        print(\"    Latency (ms)\")\n",
    "        print(\"    P99.9:         %7.2f\" % (df[\"latency\"].quantile(0.999)))\n",
    "        print(\"      P99:         %7.2f\" % (df[\"latency\"].quantile(0.99)))\n",
    "        print(\"      P95:         %7.2f\" % (df[\"latency\"].quantile(0.95)))\n",
    "        print(\"      P50:         %7.2f\" % (df[\"latency\"].quantile(0.50)))\n",
    "        print(\"      Avg:         %7.2f\" % (df[\"latency\"].mean()))\n",
    "        print(\"      Std:         %7.2f\" % (df[\"latency\"].std()))"
   ]
  }
 ],
 "metadata": {
  "interpreter": {
   "hash": "916dbcbb3f70747c44a77c7bcd40155683ae19c65e1c03b4aa3499c5328201f1"
  },
  "kernelspec": {
   "display_name": "Python 3.8.10 64-bit",
   "name": "python3"
  },
  "language_info": {
   "codemirror_mode": {
    "name": "ipython",
    "version": 3
   },
   "file_extension": ".py",
   "mimetype": "text/x-python",
   "name": "python",
   "nbconvert_exporter": "python",
   "pygments_lexer": "ipython3",
   "version": "3.8.10"
  },
  "orig_nbformat": 4
 },
 "nbformat": 4,
 "nbformat_minor": 2
}

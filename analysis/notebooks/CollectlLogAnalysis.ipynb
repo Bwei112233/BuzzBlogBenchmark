{
 "cells": [
  {
   "cell_type": "markdown",
   "metadata": {},
   "source": [
    "# Collectl Log Analysis"
   ]
  },
  {
   "cell_type": "markdown",
   "metadata": {},
   "source": [
    "## Functionalities\n",
    "- Plot CPU utilization graphs.\n",
    "- Plot memory utilization graphs.\n",
    "- Plot disk I/O utilization graphs.\n",
    "\n",
    "## Input\n",
    "Log files are read from a directory in `../data`. This directory is assumed to have the following structure:\n",
    "```\n",
    "logs/\n",
    "  [node-1]/\n",
    "    collectl.tar.gz\n",
    "  ...\n",
    "  [node-n]/\n",
    "    collectl.tar.gz\n",
    "```\n",
    "A tarball `collectl.tar.gz` contains log files. The log file extension identifies the type of resource monitored:\n",
    "- `.cpu.gz`: CPU monitoring log file.\n",
    "- `.numa.gz`: memory monitoring log file.\n",
    "- `.dsk.gz`: disk I/O monitoring log file."
   ]
  },
  {
   "cell_type": "markdown",
   "metadata": {},
   "source": [
    "## Notebook Configuration"
   ]
  },
  {
   "cell_type": "code",
   "execution_count": null,
   "metadata": {},
   "outputs": [],
   "source": [
    "########## GENERAL\n",
    "# Name of the directory in `../data`\n",
    "EXPERIMENT_DIRNAME = \"BuzzBlogBenchmark_2021-11-11-16-06-13\"\n",
    "\n",
    "########## CPU\n",
    "# Analyzed metric (options: \"user\", \"nice\", \"system\", \"wait\", \"irq\", \"soft\",\n",
    "# \"steal\", \"idle\", \"total\", \"guest\", \"guest_n\", \"intrpt\")\n",
    "COLLECTL_CPU_METRIC = \"total\"\n",
    "# List of core numbers to be analyzed\n",
    "COLLECTL_CPU_CORES = range(0, 8)\n",
    "\n",
    "########## MEMORY\n",
    "# Analyzed metric (options: \"used\", \"free\", \"slab\", \"mapped\", \"anon\", \"anonh\", \"inactive\", \"hits\")\n",
    "COLLECTL_MEM_METRIC = \"free\"\n",
    "\n",
    "########## DISK I/O\n",
    "# Analyzed metric (options: \"reads\", \"rmerge\", \"rkbytes\", \"waitr\", \"writes\", \"wmerge\", \"wkbytes\", \"waitw\", \"request\",\n",
    "# \"quelen\", \"wait\", \"svctim\", \"util\")\n",
    "COLLECTL_DSK_METRIC = \"quelen\""
   ]
  },
  {
   "cell_type": "markdown",
   "metadata": {},
   "source": [
    "## Notebook Setup"
   ]
  },
  {
   "cell_type": "code",
   "execution_count": null,
   "metadata": {},
   "outputs": [],
   "source": [
    "%matplotlib inline\n",
    "import matplotlib.pyplot as plt\n",
    "import os\n",
    "import pandas as pd\n",
    "import sys\n",
    "import warnings\n",
    "warnings.filterwarnings(\"ignore\")\n",
    "\n",
    "sys.path.append(os.path.abspath(os.path.join(\"..\")))\n",
    "from parsers.collectl_parser import CollectlParser\n",
    "from utils.utils import *"
   ]
  },
  {
   "cell_type": "markdown",
   "metadata": {},
   "source": [
    "## Log Parsing"
   ]
  },
  {
   "cell_type": "code",
   "execution_count": null,
   "metadata": {},
   "outputs": [],
   "source": [
    "# Build data frames\n",
    "cpu = pd.concat([\n",
    "    pd.DataFrame.from_dict(CollectlParser(logfile, \"cpu\").parse()).assign(node_name=node_name)\n",
    "    for node_name, logfile in get_collectl_cpu_logfiles(EXPERIMENT_DIRNAME)\n",
    "], ignore_index=True)\n",
    "mem = pd.concat([\n",
    "    pd.DataFrame.from_dict(CollectlParser(logfile, \"mem\").parse()).assign(node_name=node_name)\n",
    "    for node_name, logfile in get_collectl_mem_logfiles(EXPERIMENT_DIRNAME)\n",
    "], ignore_index=True)\n",
    "dsk = pd.concat([\n",
    "    pd.DataFrame.from_dict(CollectlParser(logfile, \"dsk\").parse()).assign(node_name=node_name)\n",
    "    for node_name, logfile in get_collectl_dsk_logfiles(EXPERIMENT_DIRNAME)\n",
    "], ignore_index=True)"
   ]
  },
  {
   "cell_type": "code",
   "execution_count": null,
   "metadata": {},
   "outputs": [],
   "source": [
    "# Filter data frames\n",
    "start_time = get_experiment_start_time(EXPERIMENT_DIRNAME)\n",
    "cpu = cpu[(cpu[\"timestamp\"] > start_time) & (cpu[\"hw_metric\"] == COLLECTL_CPU_METRIC) &\n",
    "        (cpu[\"hw_no\"].isin(COLLECTL_CPU_CORES))]\n",
    "mem = mem[(mem[\"timestamp\"] > start_time) & (mem[\"hw_metric\"] == COLLECTL_MEM_METRIC)]\n",
    "dsk = dsk[(dsk[\"timestamp\"] > start_time) & (dsk[\"hw_metric\"] == COLLECTL_DSK_METRIC)]"
   ]
  },
  {
   "cell_type": "code",
   "execution_count": null,
   "metadata": {},
   "outputs": [],
   "source": [
    "# (Re) Build columns\n",
    "cpu[\"timestamp\"] = cpu.apply(lambda r: (r[\"timestamp\"] - start_time).total_seconds(), axis=1)\n",
    "mem[\"timestamp\"] = mem.apply(lambda r: (r[\"timestamp\"] - start_time).total_seconds(), axis=1)\n",
    "dsk[\"timestamp\"] = dsk.apply(lambda r: (r[\"timestamp\"] - start_time).total_seconds(), axis=1)"
   ]
  },
  {
   "cell_type": "code",
   "execution_count": null,
   "metadata": {},
   "outputs": [],
   "source": [
    "# (Re) Create index\n",
    "cpu.set_index(\"timestamp\", inplace=True)\n",
    "mem.set_index(\"timestamp\", inplace=True)\n",
    "dsk.set_index(\"timestamp\", inplace=True)"
   ]
  },
  {
   "cell_type": "code",
   "execution_count": null,
   "metadata": {},
   "outputs": [],
   "source": [
    "# Get values\n",
    "node_names = get_node_names(EXPERIMENT_DIRNAME)"
   ]
  },
  {
   "cell_type": "markdown",
   "metadata": {},
   "source": [
    "## CPU Monitoring"
   ]
  },
  {
   "cell_type": "code",
   "execution_count": null,
   "metadata": {},
   "outputs": [],
   "source": [
    "########## LOCAL CONFIG\n",
    "# Minimum time (in seconds)\n",
    "MIN_TIME = None\n",
    "# Maximum time (in seconds)\n",
    "MAX_TIME = None\n",
    "\n",
    "# Plot CPU utilization\n",
    "fig = plt.figure(figsize=(24, len(node_names) * 12))\n",
    "for (i, node_name) in enumerate(node_names):\n",
    "    df = cpu[(cpu[\"node_name\"] == node_name)]\n",
    "    if MIN_TIME:\n",
    "        df = df[(df[\"timestamp\"] >= MIN_TIME)]\n",
    "    if MAX_TIME:\n",
    "        df = df[(df[\"timestamp\"] <= MAX_TIME)]\n",
    "    df = df.groupby([\"timestamp\", \"hw_no\"])[\"value\"].mean()\n",
    "    df = df.unstack()\n",
    "    ax = fig.add_subplot(len(node_names), 1, i + 1)\n",
    "    ax.set_xlim((df.index.min(), df.index.max()))\n",
    "    ax.set_ylim((0, 100))\n",
    "    ax.grid(alpha=0.75)\n",
    "    df.plot(ax=ax, kind=\"line\", title=\"%s - CPU Utilization\" % node_name, xlabel=\"Time (seconds)\",\n",
    "            ylabel=\"%s (%%)\" % COLLECTL_CPU_METRIC, grid=True, legend=False, yticks=range(0, 101, 10))"
   ]
  },
  {
   "cell_type": "markdown",
   "metadata": {},
   "source": [
    "## Memory Monitoring"
   ]
  },
  {
   "cell_type": "code",
   "execution_count": null,
   "metadata": {},
   "outputs": [],
   "source": [
    "########## LOCAL CONFIG\n",
    "# Minimum time (in seconds)\n",
    "MIN_TIME = None\n",
    "# Maximum time (in seconds)\n",
    "MAX_TIME = None\n",
    "\n",
    "# Plot memory utilization\n",
    "fig = plt.figure(figsize=(24, len(node_names) * 12))\n",
    "for (i, node_name) in enumerate(node_names):\n",
    "    df = mem[(mem[\"node_name\"] == node_name)]\n",
    "    if MIN_TIME:\n",
    "        df = df[(df[\"timestamp\"] >= MIN_TIME)]\n",
    "    if MAX_TIME:\n",
    "        df = df[(df[\"timestamp\"] <= MAX_TIME)]\n",
    "    df = df.groupby([\"timestamp\", \"hw_no\"])[\"value\"].mean()\n",
    "    df = df.unstack()\n",
    "    ax = fig.add_subplot(len(node_names), 1, i + 1)\n",
    "    ax.set_xlim((df.index.min(), df.index.max()))\n",
    "    ax.set_ylim((0, df.values.max()))\n",
    "    ax.grid(alpha=0.75)\n",
    "    df.plot(ax=ax, kind=\"line\", title=\"%s - Mem Utilization\" % node_name, xlabel=\"Time (seconds)\",\n",
    "            ylabel=\"%s\" % COLLECTL_MEM_METRIC, grid=True)"
   ]
  },
  {
   "cell_type": "markdown",
   "metadata": {},
   "source": [
    "## Disk Monitoring"
   ]
  },
  {
   "cell_type": "code",
   "execution_count": null,
   "metadata": {},
   "outputs": [],
   "source": [
    "########## LOCAL CONFIG\n",
    "# Minimum time (in seconds)\n",
    "MIN_TIME = None\n",
    "# Maximum time (in seconds)\n",
    "MAX_TIME = None\n",
    "\n",
    "# Plot disk I/O utilization\n",
    "fig = plt.figure(figsize=(24, len(node_names) * 12))\n",
    "for (i, node_name) in enumerate(node_names):\n",
    "    df = dsk[(dsk[\"node_name\"] == node_name)]\n",
    "    if MIN_TIME:\n",
    "        df = df[(df[\"timestamp\"] >= MIN_TIME)]\n",
    "    if MAX_TIME:\n",
    "        df = df[(df[\"timestamp\"] <= MAX_TIME)]\n",
    "    df = df.groupby([\"timestamp\", \"hw_no\"])[\"value\"].mean()\n",
    "    df = df.unstack()\n",
    "    ax = fig.add_subplot(len(node_names), 1, i + 1)\n",
    "    ax.set_xlim((df.index.min(), df.index.max()))\n",
    "    ax.set_ylim((0, df.values.max()))\n",
    "    ax.grid(alpha=0.75)\n",
    "    df.plot(ax=ax, kind=\"line\", title=\"%s - Disk I/O Utilization\" % node_name, xlabel=\"Time (seconds)\",\n",
    "            ylabel=\"%s\" % COLLECTL_DSK_METRIC, grid=True)"
   ]
  }
 ],
 "metadata": {
  "interpreter": {
   "hash": "31f2aee4e71d21fbe5cf8b01ff0e069b9275f58929596ceb00d14d90e3e16cd6"
  },
  "kernelspec": {
   "display_name": "Python 3.8.10 64-bit",
   "name": "python3"
  },
  "language_info": {
   "codemirror_mode": {
    "name": "ipython",
    "version": 3
   },
   "file_extension": ".py",
   "mimetype": "text/x-python",
   "name": "python",
   "nbconvert_exporter": "python",
   "pygments_lexer": "ipython3",
   "version": "3.8.10"
  }
 },
 "nbformat": 4,
 "nbformat_minor": 2
}
